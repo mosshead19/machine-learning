{
 "cells": [
  {
   "cell_type": "markdown",
   "id": "0f1bb0c3",
   "metadata": {
    "papermill": {
     "duration": 0.005603,
     "end_time": "2024-11-09T15:03:57.023785",
     "exception": false,
     "start_time": "2024-11-09T15:03:57.018182",
     "status": "completed"
    },
    "tags": []
   },
   "source": [
    "**This notebook is an exercise in the [Introduction to Machine Learning](https://www.kaggle.com/learn/intro-to-machine-learning) course.  You can reference the tutorial at [this link](https://www.kaggle.com/dansbecker/your-first-machine-learning-model).**\n",
    "\n",
    "---\n"
   ]
  },
  {
   "cell_type": "markdown",
   "id": "0012b468",
   "metadata": {
    "papermill": {
     "duration": 0.005015,
     "end_time": "2024-11-09T15:03:57.033876",
     "exception": false,
     "start_time": "2024-11-09T15:03:57.028861",
     "status": "completed"
    },
    "tags": []
   },
   "source": [
    "## Recap\n",
    "So far, you have loaded your data and reviewed it with the following code. Run this cell to set up your coding environment where the previous step left off."
   ]
  },
  {
   "cell_type": "code",
   "execution_count": 1,
   "id": "b5c0bf94",
   "metadata": {
    "execution": {
     "iopub.execute_input": "2024-11-09T15:03:57.045535Z",
     "iopub.status.busy": "2024-11-09T15:03:57.045126Z",
     "iopub.status.idle": "2024-11-09T15:03:59.588873Z",
     "shell.execute_reply": "2024-11-09T15:03:59.587641Z"
    },
    "papermill": {
     "duration": 2.552395,
     "end_time": "2024-11-09T15:03:59.591283",
     "exception": false,
     "start_time": "2024-11-09T15:03:57.038888",
     "status": "completed"
    },
    "tags": []
   },
   "outputs": [
    {
     "name": "stdout",
     "output_type": "stream",
     "text": [
      "Setup Complete\n"
     ]
    }
   ],
   "source": [
    "# Code you have previously used to load data\n",
    "import pandas as pd\n",
    "\n",
    "# Path of the file to read\n",
    "iowa_file_path = '../input/home-data-for-ml-course/train.csv'\n",
    "\n",
    "home_data = pd.read_csv(iowa_file_path)\n",
    "\n",
    "# Set up code checking\n",
    "from learntools.core import binder\n",
    "binder.bind(globals())\n",
    "from learntools.machine_learning.ex3 import *\n",
    "\n",
    "print(\"Setup Complete\")"
   ]
  },
  {
   "cell_type": "markdown",
   "id": "587fcf30",
   "metadata": {
    "papermill": {
     "duration": 0.004834,
     "end_time": "2024-11-09T15:03:59.601404",
     "exception": false,
     "start_time": "2024-11-09T15:03:59.596570",
     "status": "completed"
    },
    "tags": []
   },
   "source": [
    "# Exercises\n",
    "\n",
    "## Step 1: Specify Prediction Target\n",
    "Select the target variable, which corresponds to the sales price. Save this to a new variable called `y`. You'll need to print a list of the columns to find the name of the column you need.\n"
   ]
  },
  {
   "cell_type": "code",
   "execution_count": 2,
   "id": "6a16082f",
   "metadata": {
    "execution": {
     "iopub.execute_input": "2024-11-09T15:03:59.613986Z",
     "iopub.status.busy": "2024-11-09T15:03:59.613002Z",
     "iopub.status.idle": "2024-11-09T15:03:59.622098Z",
     "shell.execute_reply": "2024-11-09T15:03:59.620992Z"
    },
    "papermill": {
     "duration": 0.01781,
     "end_time": "2024-11-09T15:03:59.624300",
     "exception": false,
     "start_time": "2024-11-09T15:03:59.606490",
     "status": "completed"
    },
    "tags": []
   },
   "outputs": [
    {
     "data": {
      "text/plain": [
       "Index(['Id', 'MSSubClass', 'MSZoning', 'LotFrontage', 'LotArea', 'Street',\n",
       "       'Alley', 'LotShape', 'LandContour', 'Utilities', 'LotConfig',\n",
       "       'LandSlope', 'Neighborhood', 'Condition1', 'Condition2', 'BldgType',\n",
       "       'HouseStyle', 'OverallQual', 'OverallCond', 'YearBuilt', 'YearRemodAdd',\n",
       "       'RoofStyle', 'RoofMatl', 'Exterior1st', 'Exterior2nd', 'MasVnrType',\n",
       "       'MasVnrArea', 'ExterQual', 'ExterCond', 'Foundation', 'BsmtQual',\n",
       "       'BsmtCond', 'BsmtExposure', 'BsmtFinType1', 'BsmtFinSF1',\n",
       "       'BsmtFinType2', 'BsmtFinSF2', 'BsmtUnfSF', 'TotalBsmtSF', 'Heating',\n",
       "       'HeatingQC', 'CentralAir', 'Electrical', '1stFlrSF', '2ndFlrSF',\n",
       "       'LowQualFinSF', 'GrLivArea', 'BsmtFullBath', 'BsmtHalfBath', 'FullBath',\n",
       "       'HalfBath', 'BedroomAbvGr', 'KitchenAbvGr', 'KitchenQual',\n",
       "       'TotRmsAbvGrd', 'Functional', 'Fireplaces', 'FireplaceQu', 'GarageType',\n",
       "       'GarageYrBlt', 'GarageFinish', 'GarageCars', 'GarageArea', 'GarageQual',\n",
       "       'GarageCond', 'PavedDrive', 'WoodDeckSF', 'OpenPorchSF',\n",
       "       'EnclosedPorch', '3SsnPorch', 'ScreenPorch', 'PoolArea', 'PoolQC',\n",
       "       'Fence', 'MiscFeature', 'MiscVal', 'MoSold', 'YrSold', 'SaleType',\n",
       "       'SaleCondition', 'SalePrice'],\n",
       "      dtype='object')"
      ]
     },
     "execution_count": 2,
     "metadata": {},
     "output_type": "execute_result"
    }
   ],
   "source": [
    "# print the list of columns in the dataset to find the name of the prediction target\n",
    "home_data.columns"
   ]
  },
  {
   "cell_type": "code",
   "execution_count": 3,
   "id": "6838e7cc",
   "metadata": {
    "execution": {
     "iopub.execute_input": "2024-11-09T15:03:59.637678Z",
     "iopub.status.busy": "2024-11-09T15:03:59.636642Z",
     "iopub.status.idle": "2024-11-09T15:03:59.650581Z",
     "shell.execute_reply": "2024-11-09T15:03:59.649483Z"
    },
    "papermill": {
     "duration": 0.023211,
     "end_time": "2024-11-09T15:03:59.652775",
     "exception": false,
     "start_time": "2024-11-09T15:03:59.629564",
     "status": "completed"
    },
    "tags": []
   },
   "outputs": [
    {
     "data": {
      "application/javascript": [
       "parent.postMessage({\"jupyterEvent\": \"custom.exercise_interaction\", \"data\": {\"outcomeType\": 1, \"valueTowardsCompletion\": 0.25, \"interactionType\": 1, \"questionType\": 2, \"questionId\": \"1_SetTarget\", \"learnToolsVersion\": \"0.3.4\", \"failureMessage\": \"\", \"exceptionClass\": \"\", \"trace\": \"\"}}, \"*\")"
      ],
      "text/plain": [
       "<IPython.core.display.Javascript object>"
      ]
     },
     "metadata": {},
     "output_type": "display_data"
    },
    {
     "data": {
      "text/markdown": [
       "<span style=\"color:#33cc33\">Correct</span>"
      ],
      "text/plain": [
       "Correct"
      ]
     },
     "metadata": {},
     "output_type": "display_data"
    }
   ],
   "source": [
    "y = home_data.SalePrice\n",
    "\n",
    "# Check your answer\n",
    "step_1.check()"
   ]
  },
  {
   "cell_type": "code",
   "execution_count": 4,
   "id": "2166536d",
   "metadata": {
    "collapsed": true,
    "execution": {
     "iopub.execute_input": "2024-11-09T15:03:59.667116Z",
     "iopub.status.busy": "2024-11-09T15:03:59.666083Z",
     "iopub.status.idle": "2024-11-09T15:03:59.671407Z",
     "shell.execute_reply": "2024-11-09T15:03:59.670311Z"
    },
    "jupyter": {
     "outputs_hidden": true
    },
    "papermill": {
     "duration": 0.014536,
     "end_time": "2024-11-09T15:03:59.673830",
     "exception": false,
     "start_time": "2024-11-09T15:03:59.659294",
     "status": "completed"
    },
    "tags": []
   },
   "outputs": [],
   "source": [
    "# The lines below will show you a hint or the solution.\n",
    "# step_1.hint() \n",
    "# step_1.solution()"
   ]
  },
  {
   "cell_type": "markdown",
   "id": "81090b27",
   "metadata": {
    "papermill": {
     "duration": 0.005373,
     "end_time": "2024-11-09T15:03:59.684810",
     "exception": false,
     "start_time": "2024-11-09T15:03:59.679437",
     "status": "completed"
    },
    "tags": []
   },
   "source": [
    "## Step 2: Create X\n",
    "Now you will create a DataFrame called `X` holding the predictive features.\n",
    "\n",
    "Since you want only some columns from the original data, you'll first create a list with the names of the columns you want in `X`.\n",
    "\n",
    "You'll use just the following columns in the list (you can copy and paste the whole list to save some typing, though you'll still need to add quotes):\n",
    "  * LotArea\n",
    "  * YearBuilt\n",
    "  * 1stFlrSF\n",
    "  * 2ndFlrSF\n",
    "  * FullBath\n",
    "  * BedroomAbvGr\n",
    "  * TotRmsAbvGrd\n",
    "\n",
    "After you've created that list of features, use it to create the DataFrame that you'll use to fit the model."
   ]
  },
  {
   "cell_type": "code",
   "execution_count": 5,
   "id": "ab00064d",
   "metadata": {
    "execution": {
     "iopub.execute_input": "2024-11-09T15:03:59.698042Z",
     "iopub.status.busy": "2024-11-09T15:03:59.697145Z",
     "iopub.status.idle": "2024-11-09T15:03:59.711728Z",
     "shell.execute_reply": "2024-11-09T15:03:59.710497Z"
    },
    "papermill": {
     "duration": 0.023735,
     "end_time": "2024-11-09T15:03:59.714050",
     "exception": false,
     "start_time": "2024-11-09T15:03:59.690315",
     "status": "completed"
    },
    "tags": []
   },
   "outputs": [
    {
     "data": {
      "application/javascript": [
       "parent.postMessage({\"jupyterEvent\": \"custom.exercise_interaction\", \"data\": {\"outcomeType\": 1, \"valueTowardsCompletion\": 0.25, \"interactionType\": 1, \"questionType\": 2, \"questionId\": \"2_SelectPredictionData\", \"learnToolsVersion\": \"0.3.4\", \"failureMessage\": \"\", \"exceptionClass\": \"\", \"trace\": \"\"}}, \"*\")"
      ],
      "text/plain": [
       "<IPython.core.display.Javascript object>"
      ]
     },
     "metadata": {},
     "output_type": "display_data"
    },
    {
     "data": {
      "text/markdown": [
       "<span style=\"color:#33cc33\">Correct</span>"
      ],
      "text/plain": [
       "Correct"
      ]
     },
     "metadata": {},
     "output_type": "display_data"
    }
   ],
   "source": [
    "# Create the list of features below\n",
    "feature_names = ['LotArea','YearBuilt','1stFlrSF','2ndFlrSF','FullBath','BedroomAbvGr','TotRmsAbvGrd']\n",
    "\n",
    "# Select data corresponding to features in feature_names\n",
    "X = home_data[feature_names]\n",
    "\n",
    "# Check your answer\n",
    "step_2.check()"
   ]
  },
  {
   "cell_type": "code",
   "execution_count": 6,
   "id": "351c9c39",
   "metadata": {
    "collapsed": true,
    "execution": {
     "iopub.execute_input": "2024-11-09T15:03:59.727843Z",
     "iopub.status.busy": "2024-11-09T15:03:59.727408Z",
     "iopub.status.idle": "2024-11-09T15:03:59.732485Z",
     "shell.execute_reply": "2024-11-09T15:03:59.731303Z"
    },
    "jupyter": {
     "outputs_hidden": true
    },
    "papermill": {
     "duration": 0.01489,
     "end_time": "2024-11-09T15:03:59.734880",
     "exception": false,
     "start_time": "2024-11-09T15:03:59.719990",
     "status": "completed"
    },
    "tags": []
   },
   "outputs": [],
   "source": [
    "# step_2.hint()\n",
    "# step_2.solution()"
   ]
  },
  {
   "cell_type": "markdown",
   "id": "18e5dcb6",
   "metadata": {
    "papermill": {
     "duration": 0.005737,
     "end_time": "2024-11-09T15:03:59.746816",
     "exception": false,
     "start_time": "2024-11-09T15:03:59.741079",
     "status": "completed"
    },
    "tags": []
   },
   "source": [
    "## Review Data\n",
    "Before building a model, take a quick look at **X** to verify it looks sensible"
   ]
  },
  {
   "cell_type": "code",
   "execution_count": 7,
   "id": "2f44303a",
   "metadata": {
    "execution": {
     "iopub.execute_input": "2024-11-09T15:03:59.761051Z",
     "iopub.status.busy": "2024-11-09T15:03:59.759971Z",
     "iopub.status.idle": "2024-11-09T15:03:59.794165Z",
     "shell.execute_reply": "2024-11-09T15:03:59.792694Z"
    },
    "papermill": {
     "duration": 0.043997,
     "end_time": "2024-11-09T15:03:59.796719",
     "exception": false,
     "start_time": "2024-11-09T15:03:59.752722",
     "status": "completed"
    },
    "tags": []
   },
   "outputs": [
    {
     "name": "stdout",
     "output_type": "stream",
     "text": [
      "             LotArea    YearBuilt     1stFlrSF     2ndFlrSF     FullBath  \\\n",
      "count    1460.000000  1460.000000  1460.000000  1460.000000  1460.000000   \n",
      "mean    10516.828082  1971.267808  1162.626712   346.992466     1.565068   \n",
      "std      9981.264932    30.202904   386.587738   436.528436     0.550916   \n",
      "min      1300.000000  1872.000000   334.000000     0.000000     0.000000   \n",
      "25%      7553.500000  1954.000000   882.000000     0.000000     1.000000   \n",
      "50%      9478.500000  1973.000000  1087.000000     0.000000     2.000000   \n",
      "75%     11601.500000  2000.000000  1391.250000   728.000000     2.000000   \n",
      "max    215245.000000  2010.000000  4692.000000  2065.000000     3.000000   \n",
      "\n",
      "       BedroomAbvGr  TotRmsAbvGrd  \n",
      "count   1460.000000   1460.000000  \n",
      "mean       2.866438      6.517808  \n",
      "std        0.815778      1.625393  \n",
      "min        0.000000      2.000000  \n",
      "25%        2.000000      5.000000  \n",
      "50%        3.000000      6.000000  \n",
      "75%        3.000000      7.000000  \n",
      "max        8.000000     14.000000  \n",
      "   LotArea  YearBuilt  1stFlrSF  2ndFlrSF  FullBath  BedroomAbvGr  \\\n",
      "0     8450       2003       856       854         2             3   \n",
      "1     9600       1976      1262         0         2             3   \n",
      "2    11250       2001       920       866         2             3   \n",
      "3     9550       1915       961       756         1             3   \n",
      "4    14260       2000      1145      1053         2             4   \n",
      "\n",
      "   TotRmsAbvGrd  \n",
      "0             8  \n",
      "1             6  \n",
      "2             6  \n",
      "3             7  \n",
      "4             9  \n"
     ]
    }
   ],
   "source": [
    "# Review data\n",
    "# print description or statistics from X\n",
    "print(X.describe())\n",
    "\n",
    "# print the top few lines\n",
    "print(X.head())"
   ]
  },
  {
   "cell_type": "markdown",
   "id": "780e424d",
   "metadata": {
    "papermill": {
     "duration": 0.005784,
     "end_time": "2024-11-09T15:03:59.809546",
     "exception": false,
     "start_time": "2024-11-09T15:03:59.803762",
     "status": "completed"
    },
    "tags": []
   },
   "source": [
    "## Step 3: Specify and Fit Model\n",
    "Create a `DecisionTreeRegressor` and save it iowa_model. Ensure you've done the relevant import from sklearn to run this command.\n",
    "\n",
    "Then fit the model you just created using the data in `X` and `y` that you saved above."
   ]
  },
  {
   "cell_type": "code",
   "execution_count": 8,
   "id": "a9f22862",
   "metadata": {
    "execution": {
     "iopub.execute_input": "2024-11-09T15:03:59.823109Z",
     "iopub.status.busy": "2024-11-09T15:03:59.822638Z",
     "iopub.status.idle": "2024-11-09T15:03:59.843953Z",
     "shell.execute_reply": "2024-11-09T15:03:59.842812Z"
    },
    "papermill": {
     "duration": 0.031013,
     "end_time": "2024-11-09T15:03:59.846508",
     "exception": false,
     "start_time": "2024-11-09T15:03:59.815495",
     "status": "completed"
    },
    "tags": []
   },
   "outputs": [
    {
     "data": {
      "application/javascript": [
       "parent.postMessage({\"jupyterEvent\": \"custom.exercise_interaction\", \"data\": {\"outcomeType\": 1, \"valueTowardsCompletion\": 0.25, \"interactionType\": 1, \"questionType\": 2, \"questionId\": \"3_CreateModel\", \"learnToolsVersion\": \"0.3.4\", \"failureMessage\": \"\", \"exceptionClass\": \"\", \"trace\": \"\"}}, \"*\")"
      ],
      "text/plain": [
       "<IPython.core.display.Javascript object>"
      ]
     },
     "metadata": {},
     "output_type": "display_data"
    },
    {
     "data": {
      "text/markdown": [
       "<span style=\"color:#33cc33\">Correct</span>"
      ],
      "text/plain": [
       "Correct"
      ]
     },
     "metadata": {},
     "output_type": "display_data"
    }
   ],
   "source": [
    "from sklearn.tree import DecisionTreeRegressor\n",
    "#specify the model. \n",
    "#For model reproducibility, set a numeric value for random_state when specifying the model\n",
    "iowa_model = DecisionTreeRegressor(random_state=1)\n",
    "\n",
    "# Fit the model\n",
    "iowa_model.fit(X,y)\n",
    "\n",
    "# Check your answer\n",
    "step_3.check()"
   ]
  },
  {
   "cell_type": "code",
   "execution_count": 9,
   "id": "de232f4a",
   "metadata": {
    "collapsed": true,
    "execution": {
     "iopub.execute_input": "2024-11-09T15:03:59.860679Z",
     "iopub.status.busy": "2024-11-09T15:03:59.860249Z",
     "iopub.status.idle": "2024-11-09T15:03:59.864888Z",
     "shell.execute_reply": "2024-11-09T15:03:59.863734Z"
    },
    "jupyter": {
     "outputs_hidden": true
    },
    "papermill": {
     "duration": 0.014453,
     "end_time": "2024-11-09T15:03:59.867155",
     "exception": false,
     "start_time": "2024-11-09T15:03:59.852702",
     "status": "completed"
    },
    "tags": []
   },
   "outputs": [],
   "source": [
    "# step_3.hint()\n",
    "# step_3.solution()"
   ]
  },
  {
   "cell_type": "markdown",
   "id": "8cdd1083",
   "metadata": {
    "papermill": {
     "duration": 0.006156,
     "end_time": "2024-11-09T15:03:59.879637",
     "exception": false,
     "start_time": "2024-11-09T15:03:59.873481",
     "status": "completed"
    },
    "tags": []
   },
   "source": [
    "## Step 4: Make Predictions\n",
    "Make predictions with the model's `predict` command using `X` as the data. Save the results to a variable called `predictions`."
   ]
  },
  {
   "cell_type": "code",
   "execution_count": 10,
   "id": "634863d1",
   "metadata": {
    "execution": {
     "iopub.execute_input": "2024-11-09T15:03:59.894618Z",
     "iopub.status.busy": "2024-11-09T15:03:59.893541Z",
     "iopub.status.idle": "2024-11-09T15:03:59.908112Z",
     "shell.execute_reply": "2024-11-09T15:03:59.906940Z"
    },
    "papermill": {
     "duration": 0.024538,
     "end_time": "2024-11-09T15:03:59.910437",
     "exception": false,
     "start_time": "2024-11-09T15:03:59.885899",
     "status": "completed"
    },
    "tags": []
   },
   "outputs": [
    {
     "name": "stdout",
     "output_type": "stream",
     "text": [
      "[208500. 181500. 223500. ... 266500. 142125. 147500.]\n"
     ]
    },
    {
     "data": {
      "application/javascript": [
       "parent.postMessage({\"jupyterEvent\": \"custom.exercise_interaction\", \"data\": {\"outcomeType\": 1, \"valueTowardsCompletion\": 0.25, \"interactionType\": 1, \"questionType\": 2, \"questionId\": \"4_MakePredictions\", \"learnToolsVersion\": \"0.3.4\", \"failureMessage\": \"\", \"exceptionClass\": \"\", \"trace\": \"\"}}, \"*\")"
      ],
      "text/plain": [
       "<IPython.core.display.Javascript object>"
      ]
     },
     "metadata": {},
     "output_type": "display_data"
    },
    {
     "data": {
      "text/markdown": [
       "<span style=\"color:#33cc33\">Correct</span>"
      ],
      "text/plain": [
       "Correct"
      ]
     },
     "metadata": {},
     "output_type": "display_data"
    }
   ],
   "source": [
    "predictions = iowa_model.predict(X)\n",
    "print(predictions)\n",
    "\n",
    "# Check your answer\n",
    "step_4.check()"
   ]
  },
  {
   "cell_type": "code",
   "execution_count": 11,
   "id": "c99db9b6",
   "metadata": {
    "collapsed": true,
    "execution": {
     "iopub.execute_input": "2024-11-09T15:03:59.926077Z",
     "iopub.status.busy": "2024-11-09T15:03:59.925615Z",
     "iopub.status.idle": "2024-11-09T15:03:59.930599Z",
     "shell.execute_reply": "2024-11-09T15:03:59.929388Z"
    },
    "jupyter": {
     "outputs_hidden": true
    },
    "papermill": {
     "duration": 0.015558,
     "end_time": "2024-11-09T15:03:59.933064",
     "exception": false,
     "start_time": "2024-11-09T15:03:59.917506",
     "status": "completed"
    },
    "tags": []
   },
   "outputs": [],
   "source": [
    "# step_4.hint()\n",
    "# step_4.solution()"
   ]
  },
  {
   "cell_type": "markdown",
   "id": "cf451f68",
   "metadata": {
    "papermill": {
     "duration": 0.006301,
     "end_time": "2024-11-09T15:03:59.945947",
     "exception": false,
     "start_time": "2024-11-09T15:03:59.939646",
     "status": "completed"
    },
    "tags": []
   },
   "source": [
    "## Think About Your Results\n",
    "\n",
    "Use the `head` method to compare the top few predictions to the actual home values (in `y`) for those same homes. Anything surprising?\n"
   ]
  },
  {
   "cell_type": "code",
   "execution_count": 12,
   "id": "fcc39523",
   "metadata": {
    "execution": {
     "iopub.execute_input": "2024-11-09T15:03:59.961478Z",
     "iopub.status.busy": "2024-11-09T15:03:59.961058Z",
     "iopub.status.idle": "2024-11-09T15:03:59.968830Z",
     "shell.execute_reply": "2024-11-09T15:03:59.967717Z"
    },
    "papermill": {
     "duration": 0.018414,
     "end_time": "2024-11-09T15:03:59.971157",
     "exception": false,
     "start_time": "2024-11-09T15:03:59.952743",
     "status": "completed"
    },
    "tags": []
   },
   "outputs": [
    {
     "data": {
      "text/plain": [
       "0    208500\n",
       "1    181500\n",
       "2    223500\n",
       "3    140000\n",
       "4    250000\n",
       "Name: SalePrice, dtype: int64"
      ]
     },
     "execution_count": 12,
     "metadata": {},
     "output_type": "execute_result"
    }
   ],
   "source": [
    "# You can write code in this cell\n",
    "y.head()"
   ]
  },
  {
   "cell_type": "markdown",
   "id": "5159dbd2",
   "metadata": {
    "papermill": {
     "duration": 0.006503,
     "end_time": "2024-11-09T15:03:59.984475",
     "exception": false,
     "start_time": "2024-11-09T15:03:59.977972",
     "status": "completed"
    },
    "tags": []
   },
   "source": [
    "It's natural to ask how accurate the model's predictions will be and how you can improve that. That will be you're next step.\n",
    "\n",
    "# Keep Going\n",
    "\n",
    "You are ready for **[Model Validation](https://www.kaggle.com/dansbecker/model-validation).**\n"
   ]
  },
  {
   "cell_type": "markdown",
   "id": "dd845f89",
   "metadata": {
    "papermill": {
     "duration": 0.006442,
     "end_time": "2024-11-09T15:03:59.997529",
     "exception": false,
     "start_time": "2024-11-09T15:03:59.991087",
     "status": "completed"
    },
    "tags": []
   },
   "source": [
    "---\n",
    "\n",
    "\n",
    "\n",
    "\n",
    "*Have questions or comments? Visit the [course discussion forum](https://www.kaggle.com/learn/intro-to-machine-learning/discussion) to chat with other learners.*"
   ]
  }
 ],
 "metadata": {
  "kaggle": {
   "accelerator": "none",
   "dataSources": [
    {
     "databundleVersionId": 111096,
     "sourceId": 10211,
     "sourceType": "competition"
    },
    {
     "datasetId": 11167,
     "sourceId": 15520,
     "sourceType": "datasetVersion"
    },
    {
     "datasetId": 2709,
     "sourceId": 38454,
     "sourceType": "datasetVersion"
    }
   ],
   "isGpuEnabled": false,
   "isInternetEnabled": false,
   "language": "python",
   "sourceType": "notebook"
  },
  "kernelspec": {
   "display_name": "Python 3",
   "language": "python",
   "name": "python3"
  },
  "language_info": {
   "codemirror_mode": {
    "name": "ipython",
    "version": 3
   },
   "file_extension": ".py",
   "mimetype": "text/x-python",
   "name": "python",
   "nbconvert_exporter": "python",
   "pygments_lexer": "ipython3",
   "version": "3.10.14"
  },
  "papermill": {
   "default_parameters": {},
   "duration": 6.385699,
   "end_time": "2024-11-09T15:04:00.625007",
   "environment_variables": {},
   "exception": null,
   "input_path": "__notebook__.ipynb",
   "output_path": "__notebook__.ipynb",
   "parameters": {},
   "start_time": "2024-11-09T15:03:54.239308",
   "version": "2.6.0"
  }
 },
 "nbformat": 4,
 "nbformat_minor": 5
}
