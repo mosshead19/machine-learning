{
 "cells": [
  {
   "cell_type": "markdown",
   "id": "300c997c",
   "metadata": {
    "papermill": {
     "duration": 0.005738,
     "end_time": "2024-11-09T15:07:09.992194",
     "exception": false,
     "start_time": "2024-11-09T15:07:09.986456",
     "status": "completed"
    },
    "tags": []
   },
   "source": [
    "**This notebook is an exercise in the [Introduction to Machine Learning](https://www.kaggle.com/learn/intro-to-machine-learning) course.  You can reference the tutorial at [this link](https://www.kaggle.com/dansbecker/your-first-machine-learning-model).**\n",
    "\n",
    "---\n"
   ]
  },
  {
   "cell_type": "markdown",
   "id": "1f8a566f",
   "metadata": {
    "papermill": {
     "duration": 0.004603,
     "end_time": "2024-11-09T15:07:10.001850",
     "exception": false,
     "start_time": "2024-11-09T15:07:09.997247",
     "status": "completed"
    },
    "tags": []
   },
   "source": [
    "## Recap\n",
    "So far, you have loaded your data and reviewed it with the following code. Run this cell to set up your coding environment where the previous step left off."
   ]
  },
  {
   "cell_type": "code",
   "execution_count": 1,
   "id": "41175147",
   "metadata": {
    "execution": {
     "iopub.execute_input": "2024-11-09T15:07:10.013648Z",
     "iopub.status.busy": "2024-11-09T15:07:10.013212Z",
     "iopub.status.idle": "2024-11-09T15:07:12.900067Z",
     "shell.execute_reply": "2024-11-09T15:07:12.898827Z"
    },
    "papermill": {
     "duration": 2.896116,
     "end_time": "2024-11-09T15:07:12.902950",
     "exception": false,
     "start_time": "2024-11-09T15:07:10.006834",
     "status": "completed"
    },
    "tags": []
   },
   "outputs": [
    {
     "name": "stdout",
     "output_type": "stream",
     "text": [
      "Setup Complete\n"
     ]
    }
   ],
   "source": [
    "# Code you have previously used to load data\n",
    "import pandas as pd\n",
    "\n",
    "# Path of the file to read\n",
    "iowa_file_path = '../input/home-data-for-ml-course/train.csv'\n",
    "\n",
    "home_data = pd.read_csv(iowa_file_path)\n",
    "\n",
    "# Set up code checking\n",
    "from learntools.core import binder\n",
    "binder.bind(globals())\n",
    "from learntools.machine_learning.ex3 import *\n",
    "\n",
    "print(\"Setup Complete\")"
   ]
  },
  {
   "cell_type": "markdown",
   "id": "7266f172",
   "metadata": {
    "papermill": {
     "duration": 0.004587,
     "end_time": "2024-11-09T15:07:12.912774",
     "exception": false,
     "start_time": "2024-11-09T15:07:12.908187",
     "status": "completed"
    },
    "tags": []
   },
   "source": [
    "# Exercises\n",
    "\n",
    "## Step 1: Specify Prediction Target\n",
    "Select the target variable, which corresponds to the sales price. Save this to a new variable called `y`. You'll need to print a list of the columns to find the name of the column you need.\n"
   ]
  },
  {
   "cell_type": "code",
   "execution_count": 2,
   "id": "4dbc3074",
   "metadata": {
    "execution": {
     "iopub.execute_input": "2024-11-09T15:07:12.924267Z",
     "iopub.status.busy": "2024-11-09T15:07:12.923675Z",
     "iopub.status.idle": "2024-11-09T15:07:12.932264Z",
     "shell.execute_reply": "2024-11-09T15:07:12.931193Z"
    },
    "papermill": {
     "duration": 0.017086,
     "end_time": "2024-11-09T15:07:12.934537",
     "exception": false,
     "start_time": "2024-11-09T15:07:12.917451",
     "status": "completed"
    },
    "tags": []
   },
   "outputs": [
    {
     "data": {
      "text/plain": [
       "Index(['Id', 'MSSubClass', 'MSZoning', 'LotFrontage', 'LotArea', 'Street',\n",
       "       'Alley', 'LotShape', 'LandContour', 'Utilities', 'LotConfig',\n",
       "       'LandSlope', 'Neighborhood', 'Condition1', 'Condition2', 'BldgType',\n",
       "       'HouseStyle', 'OverallQual', 'OverallCond', 'YearBuilt', 'YearRemodAdd',\n",
       "       'RoofStyle', 'RoofMatl', 'Exterior1st', 'Exterior2nd', 'MasVnrType',\n",
       "       'MasVnrArea', 'ExterQual', 'ExterCond', 'Foundation', 'BsmtQual',\n",
       "       'BsmtCond', 'BsmtExposure', 'BsmtFinType1', 'BsmtFinSF1',\n",
       "       'BsmtFinType2', 'BsmtFinSF2', 'BsmtUnfSF', 'TotalBsmtSF', 'Heating',\n",
       "       'HeatingQC', 'CentralAir', 'Electrical', '1stFlrSF', '2ndFlrSF',\n",
       "       'LowQualFinSF', 'GrLivArea', 'BsmtFullBath', 'BsmtHalfBath', 'FullBath',\n",
       "       'HalfBath', 'BedroomAbvGr', 'KitchenAbvGr', 'KitchenQual',\n",
       "       'TotRmsAbvGrd', 'Functional', 'Fireplaces', 'FireplaceQu', 'GarageType',\n",
       "       'GarageYrBlt', 'GarageFinish', 'GarageCars', 'GarageArea', 'GarageQual',\n",
       "       'GarageCond', 'PavedDrive', 'WoodDeckSF', 'OpenPorchSF',\n",
       "       'EnclosedPorch', '3SsnPorch', 'ScreenPorch', 'PoolArea', 'PoolQC',\n",
       "       'Fence', 'MiscFeature', 'MiscVal', 'MoSold', 'YrSold', 'SaleType',\n",
       "       'SaleCondition', 'SalePrice'],\n",
       "      dtype='object')"
      ]
     },
     "execution_count": 2,
     "metadata": {},
     "output_type": "execute_result"
    }
   ],
   "source": [
    "# print the list of columns in the dataset to find the name of the prediction target\n",
    "home_data.columns"
   ]
  },
  {
   "cell_type": "code",
   "execution_count": 3,
   "id": "5f88f5a1",
   "metadata": {
    "execution": {
     "iopub.execute_input": "2024-11-09T15:07:12.946297Z",
     "iopub.status.busy": "2024-11-09T15:07:12.945920Z",
     "iopub.status.idle": "2024-11-09T15:07:12.962080Z",
     "shell.execute_reply": "2024-11-09T15:07:12.960977Z"
    },
    "papermill": {
     "duration": 0.024679,
     "end_time": "2024-11-09T15:07:12.964345",
     "exception": false,
     "start_time": "2024-11-09T15:07:12.939666",
     "status": "completed"
    },
    "tags": []
   },
   "outputs": [
    {
     "data": {
      "application/javascript": [
       "parent.postMessage({\"jupyterEvent\": \"custom.exercise_interaction\", \"data\": {\"outcomeType\": 1, \"valueTowardsCompletion\": 0.25, \"interactionType\": 1, \"questionType\": 2, \"questionId\": \"1_SetTarget\", \"learnToolsVersion\": \"0.3.4\", \"failureMessage\": \"\", \"exceptionClass\": \"\", \"trace\": \"\"}}, \"*\")"
      ],
      "text/plain": [
       "<IPython.core.display.Javascript object>"
      ]
     },
     "metadata": {},
     "output_type": "display_data"
    },
    {
     "data": {
      "text/markdown": [
       "<span style=\"color:#33cc33\">Correct</span>"
      ],
      "text/plain": [
       "Correct"
      ]
     },
     "metadata": {},
     "output_type": "display_data"
    }
   ],
   "source": [
    "y = home_data.SalePrice\n",
    "\n",
    "# Check your answer\n",
    "step_1.check()"
   ]
  },
  {
   "cell_type": "code",
   "execution_count": 4,
   "id": "a0e63bb2",
   "metadata": {
    "collapsed": true,
    "execution": {
     "iopub.execute_input": "2024-11-09T15:07:12.978039Z",
     "iopub.status.busy": "2024-11-09T15:07:12.977337Z",
     "iopub.status.idle": "2024-11-09T15:07:12.982151Z",
     "shell.execute_reply": "2024-11-09T15:07:12.980986Z"
    },
    "jupyter": {
     "outputs_hidden": true
    },
    "papermill": {
     "duration": 0.013975,
     "end_time": "2024-11-09T15:07:12.984602",
     "exception": false,
     "start_time": "2024-11-09T15:07:12.970627",
     "status": "completed"
    },
    "tags": []
   },
   "outputs": [],
   "source": [
    "# The lines below will show you a hint or the solution.\n",
    "# step_1.hint() \n",
    "# step_1.solution()"
   ]
  },
  {
   "cell_type": "markdown",
   "id": "cf521e07",
   "metadata": {
    "papermill": {
     "duration": 0.00521,
     "end_time": "2024-11-09T15:07:12.995413",
     "exception": false,
     "start_time": "2024-11-09T15:07:12.990203",
     "status": "completed"
    },
    "tags": []
   },
   "source": [
    "## Step 2: Create X\n",
    "Now you will create a DataFrame called `X` holding the predictive features.\n",
    "\n",
    "Since you want only some columns from the original data, you'll first create a list with the names of the columns you want in `X`.\n",
    "\n",
    "You'll use just the following columns in the list (you can copy and paste the whole list to save some typing, though you'll still need to add quotes):\n",
    "  * LotArea\n",
    "  * YearBuilt\n",
    "  * 1stFlrSF\n",
    "  * 2ndFlrSF\n",
    "  * FullBath\n",
    "  * BedroomAbvGr\n",
    "  * TotRmsAbvGrd\n",
    "\n",
    "After you've created that list of features, use it to create the DataFrame that you'll use to fit the model."
   ]
  },
  {
   "cell_type": "code",
   "execution_count": 5,
   "id": "ca3e0c42",
   "metadata": {
    "execution": {
     "iopub.execute_input": "2024-11-09T15:07:13.007974Z",
     "iopub.status.busy": "2024-11-09T15:07:13.007432Z",
     "iopub.status.idle": "2024-11-09T15:07:13.021722Z",
     "shell.execute_reply": "2024-11-09T15:07:13.020571Z"
    },
    "papermill": {
     "duration": 0.023111,
     "end_time": "2024-11-09T15:07:13.023806",
     "exception": false,
     "start_time": "2024-11-09T15:07:13.000695",
     "status": "completed"
    },
    "tags": []
   },
   "outputs": [
    {
     "data": {
      "application/javascript": [
       "parent.postMessage({\"jupyterEvent\": \"custom.exercise_interaction\", \"data\": {\"outcomeType\": 1, \"valueTowardsCompletion\": 0.25, \"interactionType\": 1, \"questionType\": 2, \"questionId\": \"2_SelectPredictionData\", \"learnToolsVersion\": \"0.3.4\", \"failureMessage\": \"\", \"exceptionClass\": \"\", \"trace\": \"\"}}, \"*\")"
      ],
      "text/plain": [
       "<IPython.core.display.Javascript object>"
      ]
     },
     "metadata": {},
     "output_type": "display_data"
    },
    {
     "data": {
      "text/markdown": [
       "<span style=\"color:#33cc33\">Correct</span>"
      ],
      "text/plain": [
       "Correct"
      ]
     },
     "metadata": {},
     "output_type": "display_data"
    }
   ],
   "source": [
    "# Create the list of features below\n",
    "feature_names = ['LotArea','YearBuilt','1stFlrSF','2ndFlrSF','FullBath','BedroomAbvGr','TotRmsAbvGrd']\n",
    "\n",
    "# Select data corresponding to features in feature_names\n",
    "X = home_data[feature_names]\n",
    "\n",
    "# Check your answer\n",
    "step_2.check()"
   ]
  },
  {
   "cell_type": "code",
   "execution_count": 6,
   "id": "4c603fe7",
   "metadata": {
    "collapsed": true,
    "execution": {
     "iopub.execute_input": "2024-11-09T15:07:13.036495Z",
     "iopub.status.busy": "2024-11-09T15:07:13.036084Z",
     "iopub.status.idle": "2024-11-09T15:07:13.040985Z",
     "shell.execute_reply": "2024-11-09T15:07:13.039673Z"
    },
    "jupyter": {
     "outputs_hidden": true
    },
    "papermill": {
     "duration": 0.013822,
     "end_time": "2024-11-09T15:07:13.043205",
     "exception": false,
     "start_time": "2024-11-09T15:07:13.029383",
     "status": "completed"
    },
    "tags": []
   },
   "outputs": [],
   "source": [
    "# step_2.hint()\n",
    "# step_2.solution()"
   ]
  },
  {
   "cell_type": "markdown",
   "id": "4213a261",
   "metadata": {
    "papermill": {
     "duration": 0.00548,
     "end_time": "2024-11-09T15:07:13.054384",
     "exception": false,
     "start_time": "2024-11-09T15:07:13.048904",
     "status": "completed"
    },
    "tags": []
   },
   "source": [
    "## Review Data\n",
    "Before building a model, take a quick look at **X** to verify it looks sensible"
   ]
  },
  {
   "cell_type": "code",
   "execution_count": 7,
   "id": "c6d8c4bc",
   "metadata": {
    "execution": {
     "iopub.execute_input": "2024-11-09T15:07:13.067053Z",
     "iopub.status.busy": "2024-11-09T15:07:13.066632Z",
     "iopub.status.idle": "2024-11-09T15:07:13.100001Z",
     "shell.execute_reply": "2024-11-09T15:07:13.098679Z"
    },
    "papermill": {
     "duration": 0.042626,
     "end_time": "2024-11-09T15:07:13.102564",
     "exception": false,
     "start_time": "2024-11-09T15:07:13.059938",
     "status": "completed"
    },
    "tags": []
   },
   "outputs": [
    {
     "name": "stdout",
     "output_type": "stream",
     "text": [
      "             LotArea    YearBuilt     1stFlrSF     2ndFlrSF     FullBath  \\\n",
      "count    1460.000000  1460.000000  1460.000000  1460.000000  1460.000000   \n",
      "mean    10516.828082  1971.267808  1162.626712   346.992466     1.565068   \n",
      "std      9981.264932    30.202904   386.587738   436.528436     0.550916   \n",
      "min      1300.000000  1872.000000   334.000000     0.000000     0.000000   \n",
      "25%      7553.500000  1954.000000   882.000000     0.000000     1.000000   \n",
      "50%      9478.500000  1973.000000  1087.000000     0.000000     2.000000   \n",
      "75%     11601.500000  2000.000000  1391.250000   728.000000     2.000000   \n",
      "max    215245.000000  2010.000000  4692.000000  2065.000000     3.000000   \n",
      "\n",
      "       BedroomAbvGr  TotRmsAbvGrd  \n",
      "count   1460.000000   1460.000000  \n",
      "mean       2.866438      6.517808  \n",
      "std        0.815778      1.625393  \n",
      "min        0.000000      2.000000  \n",
      "25%        2.000000      5.000000  \n",
      "50%        3.000000      6.000000  \n",
      "75%        3.000000      7.000000  \n",
      "max        8.000000     14.000000  \n",
      "   LotArea  YearBuilt  1stFlrSF  2ndFlrSF  FullBath  BedroomAbvGr  \\\n",
      "0     8450       2003       856       854         2             3   \n",
      "1     9600       1976      1262         0         2             3   \n",
      "2    11250       2001       920       866         2             3   \n",
      "3     9550       1915       961       756         1             3   \n",
      "4    14260       2000      1145      1053         2             4   \n",
      "\n",
      "   TotRmsAbvGrd  \n",
      "0             8  \n",
      "1             6  \n",
      "2             6  \n",
      "3             7  \n",
      "4             9  \n"
     ]
    }
   ],
   "source": [
    "# Review data\n",
    "# print description or statistics from X\n",
    "print(X.describe())\n",
    "\n",
    "# print the top few lines\n",
    "print(X.head())"
   ]
  },
  {
   "cell_type": "markdown",
   "id": "bc2f4f37",
   "metadata": {
    "papermill": {
     "duration": 0.005577,
     "end_time": "2024-11-09T15:07:13.113981",
     "exception": false,
     "start_time": "2024-11-09T15:07:13.108404",
     "status": "completed"
    },
    "tags": []
   },
   "source": [
    "## Step 3: Specify and Fit Model\n",
    "Create a `DecisionTreeRegressor` and save it iowa_model. Ensure you've done the relevant import from sklearn to run this command.\n",
    "\n",
    "Then fit the model you just created using the data in `X` and `y` that you saved above."
   ]
  },
  {
   "cell_type": "code",
   "execution_count": 8,
   "id": "b9c17225",
   "metadata": {
    "execution": {
     "iopub.execute_input": "2024-11-09T15:07:13.127263Z",
     "iopub.status.busy": "2024-11-09T15:07:13.126853Z",
     "iopub.status.idle": "2024-11-09T15:07:13.146439Z",
     "shell.execute_reply": "2024-11-09T15:07:13.145342Z"
    },
    "papermill": {
     "duration": 0.029045,
     "end_time": "2024-11-09T15:07:13.148828",
     "exception": false,
     "start_time": "2024-11-09T15:07:13.119783",
     "status": "completed"
    },
    "tags": []
   },
   "outputs": [
    {
     "data": {
      "application/javascript": [
       "parent.postMessage({\"jupyterEvent\": \"custom.exercise_interaction\", \"data\": {\"outcomeType\": 1, \"valueTowardsCompletion\": 0.25, \"interactionType\": 1, \"questionType\": 2, \"questionId\": \"3_CreateModel\", \"learnToolsVersion\": \"0.3.4\", \"failureMessage\": \"\", \"exceptionClass\": \"\", \"trace\": \"\"}}, \"*\")"
      ],
      "text/plain": [
       "<IPython.core.display.Javascript object>"
      ]
     },
     "metadata": {},
     "output_type": "display_data"
    },
    {
     "data": {
      "text/markdown": [
       "<span style=\"color:#33cc33\">Correct</span>"
      ],
      "text/plain": [
       "Correct"
      ]
     },
     "metadata": {},
     "output_type": "display_data"
    }
   ],
   "source": [
    "from sklearn.tree import DecisionTreeRegressor\n",
    "#specify the model. \n",
    "#For model reproducibility, set a numeric value for random_state when specifying the model\n",
    "iowa_model = DecisionTreeRegressor(random_state=1)\n",
    "\n",
    "# Fit the model\n",
    "iowa_model.fit(X,y)\n",
    "\n",
    "# Check your answer\n",
    "step_3.check()"
   ]
  },
  {
   "cell_type": "code",
   "execution_count": 9,
   "id": "c6708726",
   "metadata": {
    "collapsed": true,
    "execution": {
     "iopub.execute_input": "2024-11-09T15:07:13.162351Z",
     "iopub.status.busy": "2024-11-09T15:07:13.161949Z",
     "iopub.status.idle": "2024-11-09T15:07:13.166404Z",
     "shell.execute_reply": "2024-11-09T15:07:13.165239Z"
    },
    "jupyter": {
     "outputs_hidden": true
    },
    "papermill": {
     "duration": 0.014085,
     "end_time": "2024-11-09T15:07:13.168867",
     "exception": false,
     "start_time": "2024-11-09T15:07:13.154782",
     "status": "completed"
    },
    "tags": []
   },
   "outputs": [],
   "source": [
    "# step_3.hint()\n",
    "# step_3.solution()"
   ]
  },
  {
   "cell_type": "markdown",
   "id": "367a3f23",
   "metadata": {
    "papermill": {
     "duration": 0.00589,
     "end_time": "2024-11-09T15:07:13.180910",
     "exception": false,
     "start_time": "2024-11-09T15:07:13.175020",
     "status": "completed"
    },
    "tags": []
   },
   "source": [
    "## Step 4: Make Predictions\n",
    "Make predictions with the model's `predict` command using `X` as the data. Save the results to a variable called `predictions`."
   ]
  },
  {
   "cell_type": "code",
   "execution_count": 10,
   "id": "e3a0901b",
   "metadata": {
    "execution": {
     "iopub.execute_input": "2024-11-09T15:07:13.194716Z",
     "iopub.status.busy": "2024-11-09T15:07:13.194283Z",
     "iopub.status.idle": "2024-11-09T15:07:13.210333Z",
     "shell.execute_reply": "2024-11-09T15:07:13.209250Z"
    },
    "papermill": {
     "duration": 0.025782,
     "end_time": "2024-11-09T15:07:13.212720",
     "exception": false,
     "start_time": "2024-11-09T15:07:13.186938",
     "status": "completed"
    },
    "tags": []
   },
   "outputs": [
    {
     "name": "stdout",
     "output_type": "stream",
     "text": [
      "[208500. 181500. 223500. ... 266500. 142125. 147500.]\n"
     ]
    },
    {
     "data": {
      "application/javascript": [
       "parent.postMessage({\"jupyterEvent\": \"custom.exercise_interaction\", \"data\": {\"outcomeType\": 1, \"valueTowardsCompletion\": 0.25, \"interactionType\": 1, \"questionType\": 2, \"questionId\": \"4_MakePredictions\", \"learnToolsVersion\": \"0.3.4\", \"failureMessage\": \"\", \"exceptionClass\": \"\", \"trace\": \"\"}}, \"*\")"
      ],
      "text/plain": [
       "<IPython.core.display.Javascript object>"
      ]
     },
     "metadata": {},
     "output_type": "display_data"
    },
    {
     "data": {
      "text/markdown": [
       "<span style=\"color:#33cc33\">Correct</span>"
      ],
      "text/plain": [
       "Correct"
      ]
     },
     "metadata": {},
     "output_type": "display_data"
    }
   ],
   "source": [
    "predictions = iowa_model.predict(X)\n",
    "print(predictions)\n",
    "\n",
    "# Check your answer\n",
    "step_4.check()"
   ]
  },
  {
   "cell_type": "code",
   "execution_count": 11,
   "id": "406b52a3",
   "metadata": {
    "collapsed": true,
    "execution": {
     "iopub.execute_input": "2024-11-09T15:07:13.227794Z",
     "iopub.status.busy": "2024-11-09T15:07:13.227256Z",
     "iopub.status.idle": "2024-11-09T15:07:13.231876Z",
     "shell.execute_reply": "2024-11-09T15:07:13.230822Z"
    },
    "jupyter": {
     "outputs_hidden": true
    },
    "papermill": {
     "duration": 0.014517,
     "end_time": "2024-11-09T15:07:13.234173",
     "exception": false,
     "start_time": "2024-11-09T15:07:13.219656",
     "status": "completed"
    },
    "tags": []
   },
   "outputs": [],
   "source": [
    "# step_4.hint()\n",
    "# step_4.solution()"
   ]
  },
  {
   "cell_type": "markdown",
   "id": "a3fa6527",
   "metadata": {
    "papermill": {
     "duration": 0.006498,
     "end_time": "2024-11-09T15:07:13.247175",
     "exception": false,
     "start_time": "2024-11-09T15:07:13.240677",
     "status": "completed"
    },
    "tags": []
   },
   "source": [
    "## Think About Your Results\n",
    "\n",
    "Use the `head` method to compare the top few predictions to the actual home values (in `y`) for those same homes. Anything surprising?\n"
   ]
  },
  {
   "cell_type": "code",
   "execution_count": 12,
   "id": "313f1db5",
   "metadata": {
    "execution": {
     "iopub.execute_input": "2024-11-09T15:07:13.261862Z",
     "iopub.status.busy": "2024-11-09T15:07:13.261333Z",
     "iopub.status.idle": "2024-11-09T15:07:13.269303Z",
     "shell.execute_reply": "2024-11-09T15:07:13.268075Z"
    },
    "papermill": {
     "duration": 0.017808,
     "end_time": "2024-11-09T15:07:13.271458",
     "exception": false,
     "start_time": "2024-11-09T15:07:13.253650",
     "status": "completed"
    },
    "tags": []
   },
   "outputs": [
    {
     "data": {
      "text/plain": [
       "0    208500\n",
       "1    181500\n",
       "2    223500\n",
       "3    140000\n",
       "4    250000\n",
       "Name: SalePrice, dtype: int64"
      ]
     },
     "execution_count": 12,
     "metadata": {},
     "output_type": "execute_result"
    }
   ],
   "source": [
    "# You can write code in this cell\n",
    "y.head()"
   ]
  },
  {
   "cell_type": "markdown",
   "id": "00c718ee",
   "metadata": {
    "papermill": {
     "duration": 0.006121,
     "end_time": "2024-11-09T15:07:13.284231",
     "exception": false,
     "start_time": "2024-11-09T15:07:13.278110",
     "status": "completed"
    },
    "tags": []
   },
   "source": [
    "It's natural to ask how accurate the model's predictions will be and how you can improve that. That will be you're next step.\n",
    "\n",
    "# Keep Going\n",
    "\n",
    "You are ready for **[Model Validation](https://www.kaggle.com/dansbecker/model-validation).**\n"
   ]
  },
  {
   "cell_type": "markdown",
   "id": "2ee6111d",
   "metadata": {
    "papermill": {
     "duration": 0.006286,
     "end_time": "2024-11-09T15:07:13.296963",
     "exception": false,
     "start_time": "2024-11-09T15:07:13.290677",
     "status": "completed"
    },
    "tags": []
   },
   "source": [
    "---\n",
    "\n",
    "\n",
    "\n",
    "\n",
    "*Have questions or comments? Visit the [course discussion forum](https://www.kaggle.com/learn/intro-to-machine-learning/discussion) to chat with other learners.*"
   ]
  }
 ],
 "metadata": {
  "kaggle": {
   "accelerator": "none",
   "dataSources": [
    {
     "databundleVersionId": 111096,
     "sourceId": 10211,
     "sourceType": "competition"
    },
    {
     "datasetId": 11167,
     "sourceId": 15520,
     "sourceType": "datasetVersion"
    },
    {
     "datasetId": 2709,
     "sourceId": 38454,
     "sourceType": "datasetVersion"
    }
   ],
   "isGpuEnabled": false,
   "isInternetEnabled": false,
   "language": "python",
   "sourceType": "notebook"
  },
  "kernelspec": {
   "display_name": "Python 3",
   "language": "python",
   "name": "python3"
  },
  "language_info": {
   "codemirror_mode": {
    "name": "ipython",
    "version": 3
   },
   "file_extension": ".py",
   "mimetype": "text/x-python",
   "name": "python",
   "nbconvert_exporter": "python",
   "pygments_lexer": "ipython3",
   "version": "3.10.14"
  },
  "papermill": {
   "default_parameters": {},
   "duration": 6.766418,
   "end_time": "2024-11-09T15:07:13.924469",
   "environment_variables": {},
   "exception": null,
   "input_path": "__notebook__.ipynb",
   "output_path": "__notebook__.ipynb",
   "parameters": {},
   "start_time": "2024-11-09T15:07:07.158051",
   "version": "2.6.0"
  }
 },
 "nbformat": 4,
 "nbformat_minor": 5
}
